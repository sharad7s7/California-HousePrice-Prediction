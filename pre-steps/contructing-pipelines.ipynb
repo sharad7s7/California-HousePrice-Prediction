{
 "cells": [
  {
   "cell_type": "code",
   "execution_count": 49,
   "id": "bab9d111-390a-46b2-a4fa-a96d3ce9b588",
   "metadata": {},
   "outputs": [],
   "source": [
    "import pandas as pd\n",
    "import numpy as np"
   ]
  },
  {
   "cell_type": "code",
   "execution_count": 50,
   "id": "8907f540-d76e-4983-83af-0aad7b4421a4",
   "metadata": {},
   "outputs": [],
   "source": [
    "df = pd.read_csv(\"housing-data.csv\")"
   ]
  },
  {
   "cell_type": "code",
   "execution_count": 51,
   "id": "1e2a76ad-3d15-4c2e-96b7-d40f16366025",
   "metadata": {},
   "outputs": [],
   "source": [
    "df['income_cat'] = pd.cut(df['median_income'], bins=[0, 1.5, 3.0, 4.5, 6.0, np.inf], labels=[1, 2, 3, 4, 5])"
   ]
  },
  {
   "cell_type": "code",
   "execution_count": 52,
   "id": "a690a23a-93d2-447c-8867-13b022f18183",
   "metadata": {},
   "outputs": [],
   "source": [
    "from sklearn.model_selection import StratifiedShuffleSplit\n",
    "split=StratifiedShuffleSplit(n_splits=1,test_size=0.2,random_state=42)\n",
    "for train_index,test_index in split.split(df,df['income_cat']):\n",
    "    strat_train_data=df.loc[train_index]\n",
    "    strat_test_data=df.loc[test_index]"
   ]
  },
  {
   "cell_type": "code",
   "execution_count": 53,
   "id": "b9b9ac75-2482-407f-9e5b-f48a186121e4",
   "metadata": {},
   "outputs": [],
   "source": [
    "# Lets remove the income_cat column\n",
    "for sett in (strat_train_data, strat_test_data):\n",
    "    sett.drop(\"income_cat\", axis=1, inplace=True)"
   ]
  },
  {
   "cell_type": "code",
   "execution_count": 54,
   "id": "8942d1fe-ddd8-48e2-9a84-dc3872d8853b",
   "metadata": {},
   "outputs": [],
   "source": [
    "housing = strat_train_data.drop(\"ocean_proximity\",axis=1)\n",
    "housing_labels = strat_train_data[\"median_house_value\"].copy()"
   ]
  },
  {
   "cell_type": "code",
   "execution_count": 55,
   "id": "c29c9e56-5ffc-4059-865b-bb71fe4d9457",
   "metadata": {},
   "outputs": [],
   "source": [
    "housing=housing.drop(\"median_house_value\",axis=1)"
   ]
  },
  {
   "cell_type": "code",
   "execution_count": 59,
   "id": "3f2a4551-5e4f-4287-9378-4cadd9a1279a",
   "metadata": {},
   "outputs": [],
   "source": [
    "from sklearn.pipeline import Pipeline\n",
    "from sklearn.impute import SimpleImputer\n",
    "from sklearn.preprocessing import StandardScaler\n",
    "\n",
    "pipeline=Pipeline([\n",
    "    (\"impute\",SimpleImputer(strategy=\"median\")),\n",
    "    (\"standardize\", StandardScaler()),\n",
    "])"
   ]
  },
  {
   "cell_type": "code",
   "execution_count": 63,
   "id": "cbf5e96f-05ec-4fc0-8a51-989caaaaf538",
   "metadata": {},
   "outputs": [],
   "source": [
    "x=pipeline.fit_transform(housing)"
   ]
  },
  {
   "cell_type": "code",
   "execution_count": 66,
   "id": "93d9ce77-4427-451a-a3d4-fd0cca1ae7b0",
   "metadata": {},
   "outputs": [
    {
     "name": "stdout",
     "output_type": "stream",
     "text": [
      "<class 'pandas.core.frame.DataFrame'>\n",
      "Index: 16512 entries, 12655 to 19773\n",
      "Data columns (total 8 columns):\n",
      " #   Column              Non-Null Count  Dtype  \n",
      "---  ------              --------------  -----  \n",
      " 0   longitude           16512 non-null  float64\n",
      " 1   latitude            16512 non-null  float64\n",
      " 2   housing_median_age  16512 non-null  float64\n",
      " 3   total_rooms         16512 non-null  float64\n",
      " 4   total_bedrooms      16512 non-null  float64\n",
      " 5   population          16512 non-null  float64\n",
      " 6   households          16512 non-null  float64\n",
      " 7   median_income       16512 non-null  float64\n",
      "dtypes: float64(8)\n",
      "memory usage: 1.1 MB\n"
     ]
    }
   ],
   "source": [
    "housing=pd.DataFrame(x,columns=housing.columns,index=housing.index)\n",
    "housing.info()"
   ]
  }
 ],
 "metadata": {
  "kernelspec": {
   "display_name": "Python [conda env:base] *",
   "language": "python",
   "name": "conda-base-py"
  },
  "language_info": {
   "codemirror_mode": {
    "name": "ipython",
    "version": 3
   },
   "file_extension": ".py",
   "mimetype": "text/x-python",
   "name": "python",
   "nbconvert_exporter": "python",
   "pygments_lexer": "ipython3",
   "version": "3.12.7"
  }
 },
 "nbformat": 4,
 "nbformat_minor": 5
}
